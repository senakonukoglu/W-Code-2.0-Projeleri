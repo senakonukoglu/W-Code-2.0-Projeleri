{
  "cells": [
    {
      "cell_type": "markdown",
      "id": "409f0f4a",
      "metadata": {
        "id": "409f0f4a"
      },
      "source": [
        "**Ödev-1:** Kullanıcıdan maaş bilgisini istenir ve bu bilgiye göre maaşından ne kadar vergi kesileceğini hesaplanır. Kullanıcının geliri;\n",
        "\n",
        "1. 10000 ve altındaysa maaşından %5 kesinti olur.\n",
        "2. 25000 ve altındaysa maaşından %10 kesinti olur.\n",
        "3. 45000 ve altındaysa maaşından %25 kesinti olur.\n",
        "4. Diğer koşullarda %30 kesinti olur.\n",
        "\n",
        "Bu durumlara göre kullanıcının yeni maaşı yazdırılır."
      ]
    },
    {
      "cell_type": "code",
      "execution_count": null,
      "id": "5246e510",
      "metadata": {
        "id": "5246e510",
        "colab": {
          "base_uri": "https://localhost:8080/"
        },
        "outputId": "8e8da9e9-1f8b-49c0-ef6e-f72acfc5235e"
      },
      "outputs": [
        {
          "output_type": "stream",
          "name": "stdout",
          "text": [
            "Lütfen maaşınızı giriniz: 64000\n",
            "Vergi oranı: %30.0\n",
            "Kesilen vergi miktarı: 19200.00 TL\n",
            "Vergi sonrası maaşınız: 44800.00 TL\n"
          ]
        }
      ],
      "source": [
        "# Kullanıcıdan maaş bilgisi alınır\n",
        "maas = float(input(\"Lütfen maaşınızı giriniz: \"))\n",
        "\n",
        "# Vergi oranı\n",
        "if maas <= 10000:\n",
        "    vergi_orani = 0.05\n",
        "elif maas <= 25000:\n",
        "    vergi_orani = 0.10\n",
        "elif maas <= 45000:\n",
        "    vergi_orani = 0.25\n",
        "else:\n",
        "    vergi_orani = 0.30\n",
        "\n",
        "# Kesinti\n",
        "kesinti = maas * vergi_orani\n",
        "yeni_maas = maas - kesinti\n",
        "\n",
        "# Sonuç yazdırılır\n",
        "print(f\"Vergi oranı: %{vergi_orani * 100}\")\n",
        "print(f\"Kesilen vergi miktarı: {kesinti:.2f} TL\")  #2f demek vilrgülden sonra iki sayısı al demekmiş. Yeni öğrendim\n",
        "print(f\"Vergi sonrası maaşınız: {yeni_maas:.2f} TL\") #2f demek vilrgülden sonra iki sayısı al demekmiş. Yeni öğrendim"
      ]
    },
    {
      "cell_type": "markdown",
      "id": "f5fe8798",
      "metadata": {
        "id": "f5fe8798"
      },
      "source": [
        "**Ödev-2:** Kullanıcıdan kullanıcı adı ve şifre oluşturmasını istenir. Şifrenin uzunluğu altı haneye ulaşmışsa hesabınız oluşturuldu mesajı alınır, altı haneden azsa altı haneli şifre oluşturması gerektiğinin mesajı alınır. *(Sadece koşul kullanılması yeterli.)*"
      ]
    },
    {
      "cell_type": "code",
      "execution_count": null,
      "id": "6acffe57",
      "metadata": {
        "id": "6acffe57",
        "colab": {
          "base_uri": "https://localhost:8080/"
        },
        "outputId": "3ed5a6aa-5b6b-4b15-e0e0-12f04e5852ff"
      },
      "outputs": [
        {
          "output_type": "stream",
          "name": "stdout",
          "text": [
            "Kullanıcı adınızı oluşturun: sena\n",
            "Şifrenizi oluşturun: sena1234\n",
            "Hesabınız oluşturuldu.\n"
          ]
        }
      ],
      "source": [
        "# Kullanıcıdan adı ve şifre istenir\n",
        "kullanici_adi = input(\"Kullanıcı adınızı oluşturun: \")\n",
        "sifre = input(\"Şifrenizi oluşturun: \")\n",
        "\n",
        "if len(sifre) >= 6:\n",
        "    print(\"Hesabınız oluşturuldu.\")\n",
        "else:\n",
        "    print(\"Şifreniz en az 6 haneli olmalıdır.\")"
      ]
    },
    {
      "cell_type": "markdown",
      "id": "aaccf11a",
      "metadata": {
        "id": "aaccf11a"
      },
      "source": [
        "**Ödev-3:** Bir önceki örnek geliştirilir.\n",
        "\n",
        "1. Kullanıcı girdiği şifre 5 ve 10 hane arasında olmak zorunda.\n",
        "2. Eğer bu koşula uyuyorsa \"Hesabınız oluşturuldu.\" mesajı alır.\n",
        "3. Koşulu sağlamıyorsa \"Lütfen girdiniz şifre 5 haneden az 10 haneden fazla olmasın!\" uyarısı alır.\n",
        "4. Bunu oluştururken kullanıcı istediğimiz şartlarda şifre oluşturana kadar sormaya devam eder"
      ]
    },
    {
      "cell_type": "code",
      "execution_count": null,
      "id": "039e50dc",
      "metadata": {
        "id": "039e50dc",
        "colab": {
          "base_uri": "https://localhost:8080/"
        },
        "outputId": "2f86d34b-9ab4-48b8-96f1-417be1da7b92"
      },
      "outputs": [
        {
          "output_type": "stream",
          "name": "stdout",
          "text": [
            "Kullanıcı adınızı oluşturun: sena\n",
            "Şifrenizi oluşturun (5-10 karakter arası olmalı): sena\n",
            "Lütfen girdiğiniz şifre 5 haneden az, 10 haneden fazla olmasın!\n",
            "Şifrenizi oluşturun (5-10 karakter arası olmalı): sena12345.\n",
            "Hesabınız oluşturuldu.\n"
          ]
        }
      ],
      "source": [
        "kullanici_adi = input(\"Kullanıcı adınızı oluşturun: \")\n",
        "\n",
        "while True:\n",
        "    sifre = input(\"Şifrenizi oluşturun (5-10 karakter arası olmalı): \")\n",
        "\n",
        "\n",
        "    if 5 <= len(sifre) <= 10:\n",
        "        print(\"Hesabınız oluşturuldu.\")\n",
        "        break\n",
        "    else:\n",
        "        print(\"Lütfen girdiğiniz şifre 5 haneden az, 10 haneden fazla olmasın!\")"
      ]
    },
    {
      "cell_type": "markdown",
      "id": "8ba81863",
      "metadata": {
        "id": "8ba81863"
      },
      "source": [
        "**Ödev-4:** Kullanıcıdan isim ve şifre isteyeceğiz ve şifre girişi için üç hak verilir.\n",
        "\n",
        "1. Eğer önceden tanımlı şifre ile kullanıcıdan gelen şifre aynıysa \"Giriş yapıldı.\" yazar.\n",
        "2. Şifre girişi yanlışsa \"Yanlış şifre girildi!\" uyarısı verilsin ve üç yanlış denemede program biter.\n",
        "3. Tercihe göre kalan hak bilgisi verilir."
      ]
    },
    {
      "cell_type": "code",
      "execution_count": null,
      "id": "8f45ea0c",
      "metadata": {
        "id": "8f45ea0c",
        "colab": {
          "base_uri": "https://localhost:8080/"
        },
        "outputId": "cd40000c-c665-4a7e-a794-2460d7d5744e"
      },
      "outputs": [
        {
          "output_type": "stream",
          "name": "stdout",
          "text": [
            "Kullanıcı adınızı giriniz: sena\n",
            "Şifrenizi giriniz: 1\n",
            "Yanlış şifre girildi!\n",
            "Kalan deneme hakkınız: 2\n",
            "Şifrenizi giriniz: 2\n",
            "Yanlış şifre girildi!\n",
            "Kalan deneme hakkınız: 1\n",
            "Şifrenizi giriniz: sena1234\n",
            "Giriş yapıldı.\n"
          ]
        }
      ],
      "source": [
        "# doğru olan kullanıcı adı ve şifre\n",
        "dogru_sifre = \"sena1234\"\n",
        "\n",
        "# Kullanıcıdan isim alınır\n",
        "kullanici_adi = input(\"Kullanıcı adınızı giriniz: \")\n",
        "\n",
        "# 3 deneme hakkı tanımlanır\n",
        "hak = 3\n",
        "\n",
        "while hak > 0:\n",
        "    girilen_sifre = input(\"Şifrenizi giriniz: \")\n",
        "\n",
        "    if girilen_sifre == dogru_sifre:\n",
        "        print(\"Giriş yapıldı.\")\n",
        "        break  # Doğru şifre girildi, döngüden çık\n",
        "    else:\n",
        "        hak -= 1\n",
        "        print(\"Yanlış şifre girildi!\")\n",
        "        if hak > 0:\n",
        "            print(f\"Kalan deneme hakkınız: {hak}\")\n",
        "        else:\n",
        "            print(\"3 kez hatalı giriş yapıldı. Program sonlandırıldı.\")\n"
      ]
    }
  ],
  "metadata": {
    "kernelspec": {
      "display_name": "Python 3 (ipykernel)",
      "language": "python",
      "name": "python3"
    },
    "language_info": {
      "codemirror_mode": {
        "name": "ipython",
        "version": 3
      },
      "file_extension": ".py",
      "mimetype": "text/x-python",
      "name": "python",
      "nbconvert_exporter": "python",
      "pygments_lexer": "ipython3",
      "version": "3.9.12"
    },
    "colab": {
      "provenance": []
    }
  },
  "nbformat": 4,
  "nbformat_minor": 5
}