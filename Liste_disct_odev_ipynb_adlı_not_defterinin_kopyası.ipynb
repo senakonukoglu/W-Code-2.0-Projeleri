{
  "cells": [
    {
      "cell_type": "markdown",
      "metadata": {
        "id": "tE9ZjH5lQn2-"
      },
      "source": [
        "### Ödev 1\n",
        "\n",
        "liste = [\"Python\",True,9,\"3\",8.4,\"Hi-Kod\",\"False\",4.7]\n",
        "\n",
        "1. Aşağıdaki işlemleri indexing ve slicing kullanarak liste üzerinde uygulayın.\n",
        "\n",
        "   - \"3\" değerine ulaşmak için indexleme yapın.\n",
        "   - \"Hi-Kod\" değerine ulaşmak için indexleme yapın.\n",
        "   - 4.7 değerine ulaşmak için indexleme yapın.\n",
        "   - 9,\"3\",8.4,\"Hi-Kod\" değerlerine ulaşmak için slicing yapın.\n",
        "   - 8.4,\"Hi-Kod\",\"False\",4.7 değerlerine ulaşmak için slicing yapın."
      ]
    },
    {
      "cell_type": "code",
      "execution_count": null,
      "metadata": {
        "id": "AhOkYXjIQn3E",
        "colab": {
          "base_uri": "https://localhost:8080/"
        },
        "outputId": "9352637d-3eb1-44cf-f84a-298d04491d44"
      },
      "outputs": [
        {
          "output_type": "stream",
          "name": "stdout",
          "text": [
            "3\n",
            "Hi-Kod\n",
            "4.7\n",
            "[9, '3', 8.4, 'Hi-Kod']\n",
            "[8.4, 'Hi-Kod', 'False', 4.7]\n"
          ]
        }
      ],
      "source": [
        "liste = [\"Python\", True, 9, \"3\", 8.4, \"Hi-Kod\", \"False\", 4.7]\n",
        "\n",
        "print(liste[3])\n",
        "\n",
        "print(liste[5])\n",
        "\n",
        "print(liste[7])\n",
        "\n",
        "print(liste[2:6])\n",
        "\n",
        "print(liste[4:8])"
      ]
    },
    {
      "cell_type": "markdown",
      "metadata": {
        "id": "PU_vatZVQn3E"
      },
      "source": [
        "### Ödev 2\n",
        "\n",
        "Verilen listede bulunan string veri tipindeki öğeleri yeni_liste isimli listeye eklenir.\n",
        "\n",
        "liste = [\"Python\",True,9,\"3\",8.4,\"Hi-Kod\",\"False\",4.7]"
      ]
    },
    {
      "cell_type": "code",
      "execution_count": null,
      "metadata": {
        "id": "k036-a4qQn3F",
        "colab": {
          "base_uri": "https://localhost:8080/"
        },
        "outputId": "a0fcf22b-b8bb-46fb-e470-cff954998ac6"
      },
      "outputs": [
        {
          "output_type": "stream",
          "name": "stdout",
          "text": [
            "String öğeler: ['Python', '3', 'Hi-Kod', 'False']\n"
          ]
        }
      ],
      "source": [
        "liste = [\"Python\", True, 9, \"3\", 8.4, \"Hi-Kod\", \"False\", 4.7]\n",
        "\n",
        "yeni_liste = []\n",
        "\n",
        "for eleman in liste:\n",
        "    if type(eleman) == str:\n",
        "        yeni_liste.append(eleman)\n",
        "\n",
        "print(\"String öğeler:\", yeni_liste)"
      ]
    },
    {
      "cell_type": "markdown",
      "metadata": {
        "id": "LKspMidRQn3G"
      },
      "source": [
        "### Ödev 3\n",
        "\n",
        "Enumerate methodunu araştırın ve aşağıdaki örneği enumerate methodu ile yapın."
      ]
    },
    {
      "cell_type": "code",
      "execution_count": null,
      "metadata": {
        "id": "uKwshjmAQn3G",
        "colab": {
          "base_uri": "https://localhost:8080/"
        },
        "outputId": "cf6cdb0a-ff73-407a-d807-66079467c3ff"
      },
      "outputs": [
        {
          "output_type": "stream",
          "name": "stdout",
          "text": [
            "0. indexte bulunan meyve: elma\n",
            "1. indexte bulunan meyve: armut\n",
            "2. indexte bulunan meyve: muz\n",
            "3. indexte bulunan meyve: çilek\n"
          ]
        }
      ],
      "source": [
        "    meyveler = [\"elma\", \"armut\", \"muz\", \"çilek\"]\n",
        "\n",
        "for index, meyve in enumerate(meyveler):\n",
        "  print(\"{}. indexte bulunan meyve: {}\".format(index, meyve))"
      ]
    },
    {
      "cell_type": "markdown",
      "metadata": {
        "id": "ZmwK7TWhQn3H"
      },
      "source": []
    },
    {
      "cell_type": "markdown",
      "source": [
        "## Sozluk"
      ],
      "metadata": {
        "id": "M_DfcqxXQubL"
      }
    },
    {
      "cell_type": "markdown",
      "source": [
        "1. Bir sözlük oluşturulur ve bu sözlükte öğrencilerin isimleri ve Matematik, Fizik, Kimya notları tutulur. Kullanıcıdan isim ve ders ismi(Matematik, Fizik, Kimya) istenir ve bu bilgilere göre çıktı verilir."
      ],
      "metadata": {
        "id": "ZMXFFucEQxxD"
      }
    },
    {
      "cell_type": "markdown",
      "source": [
        "2. Sözlük üzerinde değerleri değiştirme, yeni değer ekleme, kullanıcıya ulaşmak istediği bilgileri sorma gibi uygulamalar yapın."
      ],
      "metadata": {
        "id": "8NJYTepzQ13V"
      }
    },
    {
      "cell_type": "code",
      "source": [
        "#CHATGPT'DEN DESTEK ALINMIŞTIR\n",
        "# Öğrenci notları\n",
        "ogrenciler = {\n",
        "    \"Ali\": {\"Matematik\": 80, \"Fizik\": 75, \"Kimya\": 90},\n",
        "    \"Ayşe\": {\"Matematik\": 95, \"Fizik\": 85, \"Kimya\": 88},\n",
        "    \"Mehmet\": {\"Matematik\": 70, \"Fizik\": 60, \"Kimya\": 65}\n",
        "}\n",
        "\n",
        "isim = input(\"İsim giriniz: \")\n",
        "ders = input(\"Ders giriniz (Matematik, Fizik, Kimya): \")\n",
        "\n",
        "if isim in ogrenciler:\n",
        "    if ders in ogrenciler[isim]:\n",
        "        print(isim, \"isimli öğrencinin\", ders, \"notu:\", ogrenciler[isim][ders])\n",
        "    else:\n",
        "        print(\"Ders bulunamadı.\")\n",
        "else:\n",
        "    print(\"Öğrenci bulunamadı.\")"
      ],
      "metadata": {
        "id": "Sl7EK7FDQsW1",
        "colab": {
          "base_uri": "https://localhost:8080/"
        },
        "outputId": "998ba4ac-a447-43c9-fdf1-bb9f9d73fca5"
      },
      "execution_count": null,
      "outputs": [
        {
          "output_type": "stream",
          "name": "stdout",
          "text": [
            "İsim giriniz: Ali\n",
            "Ders giriniz (Matematik, Fizik, Kimya): Fizik\n",
            "Ali isimli öğrencinin Fizik notu: 75\n"
          ]
        }
      ]
    }
  ],
  "metadata": {
    "language_info": {
      "name": "python"
    },
    "colab": {
      "provenance": []
    },
    "kernelspec": {
      "name": "python3",
      "display_name": "Python 3"
    }
  },
  "nbformat": 4,
  "nbformat_minor": 0
}