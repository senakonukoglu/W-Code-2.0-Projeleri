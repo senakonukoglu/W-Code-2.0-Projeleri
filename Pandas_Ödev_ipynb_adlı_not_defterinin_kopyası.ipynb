{
  "cells": [
    {
      "cell_type": "code",
      "execution_count": null,
      "id": "e3632fbc",
      "metadata": {
        "id": "e3632fbc"
      },
      "outputs": [],
      "source": [
        "sozluk = {\"Kategori\": [\"Giyim\",\"Giyim\", \"Ayakkabı\",\"Aksesuar\",\"Ayakkabı\",\"Giyim\",\"Aksesuar\",\"Aksesuar\",\"Ayakkabı\",\"Giyim\"],\n",
        "         \"Ürün\" : [\"Kazak\",\"T-shirt\",\"Sandalet\",\"Küpe\",\"Spor Ayakkabı\",\"Pantolon\",\"Kolye\",\"Yüzük\",\"Çizme\",\"Ceket\"],\n",
        "         \"Fiyat\" : [300,180,450,50,700,400,150,80,850,900]}"
      ]
    },
    {
      "cell_type": "markdown",
      "id": "e380a30f",
      "metadata": {
        "id": "e380a30f"
      },
      "source": [
        "##### 1. Yukarıdaki sözlüğü bir DataFrame haline getirin."
      ]
    },
    {
      "cell_type": "code",
      "execution_count": 1,
      "id": "fa7a1757",
      "metadata": {
        "id": "fa7a1757",
        "colab": {
          "base_uri": "https://localhost:8080/"
        },
        "outputId": "5ddbeeb3-995b-4473-c456-c75aa0f31310"
      },
      "outputs": [
        {
          "output_type": "stream",
          "name": "stdout",
          "text": [
            "   Kategori           Ürün  Fiyat\n",
            "0     Giyim          Kazak    300\n",
            "1     Giyim        T-shirt    180\n",
            "2  Ayakkabı       Sandalet    450\n",
            "3  Aksesuar           Küpe     50\n",
            "4  Ayakkabı  Spor Ayakkabı    700\n",
            "5     Giyim       Pantolon    400\n",
            "6  Aksesuar          Kolye    150\n",
            "7  Aksesuar          Yüzük     80\n",
            "8  Ayakkabı          Çizme    850\n",
            "9     Giyim          Ceket    900\n"
          ]
        }
      ],
      "source": [
        "import pandas as pd\n",
        "\n",
        "# Verilen sözlük\n",
        "sozluk = {\n",
        "    \"Kategori\": [\"Giyim\", \"Giyim\", \"Ayakkabı\", \"Aksesuar\", \"Ayakkabı\", \"Giyim\", \"Aksesuar\", \"Aksesuar\", \"Ayakkabı\", \"Giyim\"],\n",
        "    \"Ürün\": [\"Kazak\", \"T-shirt\", \"Sandalet\", \"Küpe\", \"Spor Ayakkabı\", \"Pantolon\", \"Kolye\", \"Yüzük\", \"Çizme\", \"Ceket\"],\n",
        "    \"Fiyat\": [300, 180, 450, 50, 700, 400, 150, 80, 850, 900]\n",
        "}\n",
        "\n",
        "# DataFrame'e çevirme\n",
        "df = pd.DataFrame(sozluk)\n",
        "\n",
        "# DataFrame'i görüntüleme\n",
        "print(df)"
      ]
    },
    {
      "cell_type": "markdown",
      "id": "fe81a0e9",
      "metadata": {
        "id": "fe81a0e9"
      },
      "source": [
        "##### 2. Aşağıdaki işlemleri dataframe üzerinde uygulayalım.\n",
        "- 2.indexde bulunan kategoriyi bulalım (Sadece kategori bilgisi)\n",
        "- 2.indexde bulunan ürünü bulalım (Sadece ürün bilgisi)\n",
        "- 4.indexden 9.indexe kadar olan verileri bulalım (Kategori,ürün,fiyat bilgisi beraber)\n",
        "- 1.indexden 6.indexe kadar olan ürünleri bulalım (Sadece ürün bilgisi)\n"
      ]
    },
    {
      "cell_type": "code",
      "execution_count": 2,
      "id": "2baa9073",
      "metadata": {
        "id": "2baa9073",
        "colab": {
          "base_uri": "https://localhost:8080/"
        },
        "outputId": "b2cb78d4-4ef2-4ae8-c8d1-bca5334671fd"
      },
      "outputs": [
        {
          "output_type": "stream",
          "name": "stdout",
          "text": [
            "2. indexteki kategori: Ayakkabı\n",
            "2. indexteki ürün: Sandalet\n",
            "   Kategori           Ürün  Fiyat\n",
            "4  Ayakkabı  Spor Ayakkabı    700\n",
            "5     Giyim       Pantolon    400\n",
            "6  Aksesuar          Kolye    150\n",
            "7  Aksesuar          Yüzük     80\n",
            "8  Ayakkabı          Çizme    850\n",
            "9     Giyim          Ceket    900\n",
            "1          T-shirt\n",
            "2         Sandalet\n",
            "3             Küpe\n",
            "4    Spor Ayakkabı\n",
            "5         Pantolon\n",
            "6            Kolye\n",
            "Name: Ürün, dtype: object\n"
          ]
        }
      ],
      "source": [
        "kategori_2 = df.loc[2, \"Kategori\"]\n",
        "print(\"2. indexteki kategori:\", kategori_2)\n",
        "\n",
        "urun_2 = df.loc[2, \"Ürün\"]\n",
        "print(\"2. indexteki ürün:\", urun_2)\n",
        "\n",
        "veriler_4_9 = df.loc[4:9]\n",
        "print(veriler_4_9)\n",
        "\n",
        "urunler_1_6 = df.loc[1:6, \"Ürün\"]\n",
        "print(urunler_1_6)"
      ]
    },
    {
      "cell_type": "markdown",
      "id": "18d5e3a5",
      "metadata": {
        "id": "18d5e3a5"
      },
      "source": [
        "##### 3. Aşağıdaki işlemleri dataframe üzerinde uygulayalım.\n",
        "- Giyim kategorisinde bulunan ürünleri gösterin\n",
        "- Ayakkabı kategorisinde bulunan ürünleri gösterin\n",
        "- Aksesuar kategorisinde bulunan ürünleri gösterin"
      ]
    },
    {
      "cell_type": "code",
      "execution_count": 6,
      "id": "c12f603a",
      "metadata": {
        "id": "c12f603a",
        "colab": {
          "base_uri": "https://localhost:8080/"
        },
        "outputId": "6146a5b2-80ee-497f-a874-6fd2c60f64d0"
      },
      "outputs": [
        {
          "output_type": "stream",
          "name": "stdout",
          "text": [
            "Giyim Ürünleri:\n",
            " 0       Kazak\n",
            "1     T-shirt\n",
            "5    Pantolon\n",
            "9       Ceket\n",
            "Name: Ürün, dtype: object\n",
            "Ayakkabı Ürünleri:\n",
            " 2         Sandalet\n",
            "4    Spor Ayakkabı\n",
            "8            Çizme\n",
            "Name: Ürün, dtype: object\n",
            "Aksesuar Ürünleri:\n",
            " 3     Küpe\n",
            "6    Kolye\n",
            "7    Yüzük\n",
            "Name: Ürün, dtype: object\n"
          ]
        }
      ],
      "source": [
        "giyim_urunleri = df[df[\"Kategori\"] == \"Giyim\"][\"Ürün\"]\n",
        "print(\"Giyim Ürünleri:\\n\", giyim_urunleri)\n",
        "\n",
        "\n",
        "ayakkabi_urunleri = df[df[\"Kategori\"] == \"Ayakkabı\"][\"Ürün\"]\n",
        "print(\"Ayakkabı Ürünleri:\\n\", ayakkabi_urunleri)\n",
        "\n",
        "\n",
        "aksesuar_urunleri = df[df[\"Kategori\"] == \"Aksesuar\"][\"Ürün\"]\n",
        "print(\"Aksesuar Ürünleri:\\n\", aksesuar_urunleri)"
      ]
    },
    {
      "cell_type": "markdown",
      "id": "5c31302a",
      "metadata": {
        "id": "5c31302a"
      },
      "source": [
        "##### 4 Aşağıdaki işlemleri dataframe üzerinde uygulayalım.\n",
        "- Giyim kategorisinde fiyatı 300'den fazla olan ürünleri gösterin\n",
        "- Ayakkabı kategorisinde fiyatı 600'den az olan ürünleri gösterin\n",
        "- Aksesuar kategorisinde fiyatı 100'den fazla olan aksesuarı gösterin"
      ]
    },
    {
      "cell_type": "code",
      "execution_count": 9,
      "id": "cc96c65b",
      "metadata": {
        "id": "cc96c65b",
        "colab": {
          "base_uri": "https://localhost:8080/"
        },
        "outputId": "8e7bd91d-bda0-449e-a3f5-760fed78881a"
      },
      "outputs": [
        {
          "output_type": "stream",
          "name": "stdout",
          "text": [
            "Giyim - Fiyatı 300 TL'den fazla olan ürünler:\n",
            "   Kategori      Ürün  Fiyat\n",
            "5    Giyim  Pantolon    400\n",
            "9    Giyim     Ceket    900\n",
            "Ayakkabı - Fiyatı 600 TL'den az olan ürünler:\n",
            "    Kategori      Ürün  Fiyat\n",
            "2  Ayakkabı  Sandalet    450\n",
            " Aksesuar - Fiyatı 100 TL'den fazla olan ürünler:\n",
            "    Kategori   Ürün  Fiyat\n",
            "6  Aksesuar  Kolye    150\n"
          ]
        }
      ],
      "source": [
        "giyim_300plus = df[(df[\"Kategori\"] == \"Giyim\") & (df[\"Fiyat\"] > 300)]\n",
        "print(\"Giyim - Fiyatı 300 TL'den fazla olan ürünler:\\n\", giyim_300plus)\n",
        "\n",
        "ayakkabi_600minus = df[(df[\"Kategori\"] == \"Ayakkabı\") & (df[\"Fiyat\"] < 600)]\n",
        "print(\"Ayakkabı - Fiyatı 600 TL'den az olan ürünler:\\n\", ayakkabi_600minus)\n",
        "\n",
        "aksesuar_100plus = df[(df[\"Kategori\"] == \"Aksesuar\") & (df[\"Fiyat\"] > 100)]\n",
        "print(\" Aksesuar - Fiyatı 100 TL'den fazla olan ürünler:\\n\", aksesuar_100plus)"
      ]
    }
  ],
  "metadata": {
    "kernelspec": {
      "display_name": "Python 3 (ipykernel)",
      "language": "python",
      "name": "python3"
    },
    "language_info": {
      "codemirror_mode": {
        "name": "ipython",
        "version": 3
      },
      "file_extension": ".py",
      "mimetype": "text/x-python",
      "name": "python",
      "nbconvert_exporter": "python",
      "pygments_lexer": "ipython3",
      "version": "3.9.12"
    },
    "colab": {
      "provenance": []
    }
  },
  "nbformat": 4,
  "nbformat_minor": 5
}