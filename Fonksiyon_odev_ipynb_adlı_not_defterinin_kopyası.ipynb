{
  "cells": [
    {
      "cell_type": "markdown",
      "metadata": {
        "id": "kABnZjOUllMC"
      },
      "source": [
        "#### Ödev 1\n",
        "Kullanıcıdan pi değeri ve yarıçap bilgisi alarak dairenin alanını hesaplayan bir fonksiyon oluşturulur."
      ]
    },
    {
      "cell_type": "code",
      "execution_count": 3,
      "metadata": {
        "vscode": {
          "languageId": "plaintext"
        },
        "id": "lWspsXoHllMK"
      },
      "outputs": [],
      "source": [
        "def daire_alani_hesapla():\n",
        "    # Kullanıcıdan pi ve yarıçap bilgileri alınır\n",
        "    pi = float(input(\"Pi değerini giriniz (örnek: 3.14): \"))\n",
        "    yaricap = float(input(\"Yarıçapı giriniz: \"))\n",
        "\n",
        "    # Alan formülü: Alan = pi * r^2\n",
        "    alan = pi * yaricap ** 2\n",
        "\n",
        "    # Sonuç yazdırılır\n",
        "    print(f\"Dairenin alanı: {alan}\")"
      ]
    },
    {
      "cell_type": "markdown",
      "metadata": {
        "id": "yuYxuKMWllMM"
      },
      "source": [
        "#### Ödev 2\n",
        "\n",
        "Faktöriyel adında fonksiyon oluşturulur. Döngü kullanarak parametre olarak girilen sayının faktöriyeli hesaplanır. Format metodunu kullanılarak ekrana yazdırılır."
      ]
    },
    {
      "cell_type": "code",
      "execution_count": 4,
      "metadata": {
        "vscode": {
          "languageId": "plaintext"
        },
        "id": "HgILvzslllMN"
      },
      "outputs": [],
      "source": [
        "def faktoriyel(sayi):\n",
        "    sonuc = 1\n",
        "    for i in range(1, sayi + 1):\n",
        "        sonuc *= i\n",
        "    print(\"Girilen sayının faktöriyeli: {}! = {}\".format(sayi, sonuc))"
      ]
    },
    {
      "cell_type": "markdown",
      "metadata": {
        "id": "WX6ZppPgllMO"
      },
      "source": [
        "#### Ödev 3\n",
        "Kişinin fonksiyona doğum yılını vererek kaç yaşında olduğunu hesaplayan bir fonksiyon oluşturun."
      ]
    },
    {
      "cell_type": "code",
      "execution_count": 6,
      "metadata": {
        "vscode": {
          "languageId": "plaintext"
        },
        "id": "6PCOGMqRllMO"
      },
      "outputs": [],
      "source": [
        "def yas_hesapla(dogum_yili):\n",
        "    mevcut_yil = 2025\n",
        "    yas = mevcut_yil - dogum_yili\n",
        "    print(\"Yaşınız: {}\".format(yas))"
      ]
    },
    {
      "cell_type": "markdown",
      "metadata": {
        "id": "PJXiBMgfllMP"
      },
      "source": [
        "#### Ödev 4\n",
        "\n",
        "Doğum yılı ve isim bilgisi verilen fonksiyon kişinin emekli olup olmadığını söylesin.(Kişi 65 yaşında ise emekli olur.) Burada yaş hesabını yukarıdaki örnekteki fonksiyonu kullanarak yapsın.(Yani fonksiyon içinde fonksiyon kullanmanızı istiyorum :)) Kişi 65 yaşında ya da daha fazlaysa \"Emekli oldunuz\" yanıtını, 65 yaşından küçükse emekliliğine kaç yıl kaldığını da hesaplayarak \"(isim) emekliliğine (yıl) kaldı.\" yanıtını versin."
      ]
    },
    {
      "cell_type": "code",
      "execution_count": 7,
      "metadata": {
        "vscode": {
          "languageId": "plaintext"
        },
        "id": "szjhCmzJllMQ"
      },
      "outputs": [],
      "source": [
        "def yas_hesapla(dogum_yili):\n",
        "    mevcut_yil = 2025  # Güncel yıl\n",
        "    return mevcut_yil - dogum_yili\n",
        "\n",
        "def emeklilik_durumu(isim, dogum_yili):\n",
        "    yas = yas_hesapla(dogum_yili)  # İçeride diğer fonksiyon kullanılıyor\n",
        "\n",
        "    if yas >= 65:\n",
        "        print(\"Emekli oldunuz.\")\n",
        "    else:\n",
        "        kalan_yil = 65 - yas\n",
        "        print(\"{} emekliliğine {} yıl kaldı.\".format(isim, kalan_yil))"
      ]
    }
  ],
  "metadata": {
    "language_info": {
      "name": "python"
    },
    "colab": {
      "provenance": []
    },
    "kernelspec": {
      "name": "python3",
      "display_name": "Python 3"
    }
  },
  "nbformat": 4,
  "nbformat_minor": 0
}